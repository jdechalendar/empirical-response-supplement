{
 "cells": [
  {
   "cell_type": "code",
   "execution_count": null,
   "metadata": {},
   "outputs": [],
   "source": [
    "%load_ext autoreload\n",
    "%autoreload 2\n",
    "%matplotlib inline"
   ]
  },
  {
   "cell_type": "code",
   "execution_count": null,
   "metadata": {},
   "outputs": [],
   "source": [
    "import matplotlib.pyplot as plt\n",
    "import pandas as pd\n",
    "import numpy as np\n",
    "\n",
    "import paper_utils as pu\n",
    "\n",
    "pu.set_plots()"
   ]
  },
  {
   "cell_type": "markdown",
   "metadata": {},
   "source": [
    "# Load data"
   ]
  },
  {
   "cell_type": "code",
   "execution_count": null,
   "metadata": {},
   "outputs": [],
   "source": [
    "data = {project: pu.load(project) for project in pu.PROJECTS}"
   ]
  },
  {
   "cell_type": "markdown",
   "metadata": {},
   "source": [
    "# Figure 2"
   ]
  },
  {
   "cell_type": "code",
   "execution_count": null,
   "metadata": {},
   "outputs": [],
   "source": [
    "def make_plot(data, cooling_load_unit, fig_name):\n",
    "    models = {}\n",
    "    f, ax = plt.subplots(2, 3, figsize=(pu.PAGE_WIDTH, pu.ROW_HEIGHT * 2), sharex=True)\n",
    "    ax = ax.flatten()\n",
    "    for i, project in enumerate(pu.PROJECTS):\n",
    "\n",
    "        weekend = pu.choose_weekend[project]\n",
    "        pu.plot_base(\n",
    "            data[project],\n",
    "            fax=(f, ax[i]),\n",
    "            weekend=weekend,\n",
    "            cooling_load_unit=cooling_load_unit,\n",
    "        )\n",
    "        models[project] = pu.create_model(\n",
    "            data[project], fax=(f, ax[i]), weekend=weekend\n",
    "        )\n",
    "        ax[i].set_title(f\"{pu.plot_numbers[i]}) {project}\")\n",
    "    for a in ax:\n",
    "        a.xaxis.set_tick_params(labelbottom=True)\n",
    "    f.tight_layout()\n",
    "    pu.add_legend((f, ax))\n",
    "\n",
    "    if pu.save_fig:\n",
    "        f.savefig(fig_name)\n",
    "    return models"
   ]
  },
  {
   "cell_type": "code",
   "execution_count": null,
   "metadata": {},
   "outputs": [],
   "source": [
    "base_cooling_models = make_plot(data, \"MJ_per_m2\", pu.fig_path / f\"Figure 2 A-F.pdf\")"
   ]
  },
  {
   "cell_type": "code",
   "execution_count": null,
   "metadata": {},
   "outputs": [],
   "source": [
    "f, ax = plt.subplots(1, 2, figsize=(pu.PAGE_WIDTH, 0.75 * pu.ROW_HEIGHT))\n",
    "ax = ax.flatten()\n",
    "for i, project in enumerate(pu.PROJECTS):\n",
    "    print(project)\n",
    "    pu.ci_plot(\n",
    "        ax[0], i, base_cooling_models[project], \"Treated\", color=pu.dark_grey, verb=True\n",
    "    )\n",
    "    pu.ci_plot(\n",
    "        ax[1], i, base_cooling_models[project], \"Tmean\", color=pu.dark_grey, verb=True\n",
    "    )\n",
    "    print()\n",
    "\n",
    "for a in ax:\n",
    "    a.set_xticks(range(len(pu.PROJECTS)))\n",
    "    a.set_xticklabels(pu.PROJECTS, rotation=25, ha=\"right\")\n",
    "ax[0].set_ylabel(\"Impact (%)\")\n",
    "ax[1].set_ylabel(\"Impact (%/$\\degree$F)\")\n",
    "ax[0].set_ylim(top=0)\n",
    "ax[1].set_ylim(bottom=0)\n",
    "\n",
    "title0 = (\n",
    "    f\"{pu.plot_numbers[6]}) \"\n",
    "    + \"Impact of 2$\\degree$F set point increase on energy for cooling\"\n",
    ")\n",
    "title1 = f\"{pu.plot_numbers[7]}) \" + \"Impact of mean daily OAT on energy for cooling\"\n",
    "ax[0].set_title(title0, ha=\"left\", loc=\"left\")\n",
    "ax[1].set_title(title1, ha=\"left\", loc=\"left\")\n",
    "\n",
    "f.tight_layout(w_pad=2.0)\n",
    "plt.subplots_adjust(top=0.85, bottom=0.27)\n",
    "if pu.save_fig:\n",
    "    f.savefig(pu.fig_path / \"Figure 2 G-H.pdf\")"
   ]
  },
  {
   "cell_type": "code",
   "execution_count": null,
   "metadata": {},
   "outputs": [],
   "source": [
    "def y_transform(y):\n",
    "    return 100 * (np.exp(y) - 1)\n",
    "\n",
    "\n",
    "for var in [\"Treated\", \"Tmean\"]:\n",
    "    print(var)\n",
    "    for project in pu.PROJECTS:\n",
    "        mod = base_cooling_models[project]\n",
    "        print(f\"{project}: {y_transform(mod.params[var]):.2f}%\")\n",
    "    print()\n",
    "\n",
    "\n",
    "def y_transform2(y):\n",
    "    return (1 + (np.exp(y) - 1)) ** 10\n",
    "\n",
    "\n",
    "print(\"Tmean impact for 10$\\degree$F\")\n",
    "for project in pu.PROJECTS:\n",
    "    mod = base_cooling_models[project]\n",
    "    print(f\"{project}: {y_transform2(mod.params[var]):.2f}\")"
   ]
  },
  {
   "cell_type": "markdown",
   "metadata": {},
   "source": [
    "# Supplemental figures and tables"
   ]
  },
  {
   "cell_type": "markdown",
   "metadata": {},
   "source": [
    "## Figures S1 and S2 - Cooling load plots with different units"
   ]
  },
  {
   "cell_type": "code",
   "execution_count": null,
   "metadata": {},
   "outputs": [],
   "source": [
    "for cooling_load_unit in [\"ktonhr\", \"kWhe_per_m2\"]:\n",
    "    data = {project: pu.load(project) for project in pu.PROJECTS}\n",
    "    for project in pu.PROJECTS:\n",
    "        if cooling_load_unit == \"ktonhr\":  # floorspace is in 1e3 m2\n",
    "            data[project].cooling = (\n",
    "                data[project].cooling * pu.floorspace[project] / pu.tonhr_to_MJ\n",
    "            )\n",
    "            fig_name = pu.si_path / \"Figure S1.pdf\"\n",
    "        elif cooling_load_unit == \"kWhe_per_m2\":\n",
    "            data[project].cooling = data[project].cooling * pu.cop_to_kWe_per_MJc(5.5)\n",
    "            fig_name = pu.si_path / \"Figure S2.pdf\"\n",
    "    make_plot(data, cooling_load_unit, fig_name)"
   ]
  },
  {
   "cell_type": "markdown",
   "metadata": {},
   "source": [
    "## Table S2"
   ]
  },
  {
   "cell_type": "code",
   "execution_count": null,
   "metadata": {},
   "outputs": [],
   "source": [
    "with open(pu.si_path / \"Table S2.tex\", \"w\") as fw:\n",
    "    fw.write(\n",
    "        pu.si_table(\n",
    "            base_cooling_models,\n",
    "            pu.PROJECTS,\n",
    "            caption=\"Additional numerical data for the models shown in Figure 2 (cooling).\",\n",
    "            label=\"table:s2\",\n",
    "        )\n",
    "    )"
   ]
  },
  {
   "cell_type": "markdown",
   "metadata": {},
   "source": [
    "## Figure S8 Linear model for cooling load"
   ]
  },
  {
   "cell_type": "code",
   "execution_count": null,
   "metadata": {},
   "outputs": [],
   "source": [
    "## data = {project: pu.load(project) for project in pu.PROJECTS}\n",
    "\n",
    "cooling_load_unit = \"MJ_per_m2\"\n",
    "data = {project: pu.load(project) for project in pu.PROJECTS}\n",
    "\n",
    "base_cooling_models_linear = {}\n",
    "\n",
    "f, ax = plt.subplots(2, 3, figsize=(pu.PAGE_WIDTH, pu.ROW_HEIGHT * 2), sharex=True)\n",
    "ax = ax.flatten()\n",
    "for i, project in enumerate(pu.PROJECTS):\n",
    "    weekend = pu.choose_weekend[project]\n",
    "    pu.plot_base(\n",
    "        data[project],\n",
    "        fax=(f, ax[i]),\n",
    "        weekend=weekend,\n",
    "        s=2,\n",
    "        cooling_load_unit=cooling_load_unit,\n",
    "    )\n",
    "    base_cooling_models_linear[project] = pu.create_model(\n",
    "        data[project], fax=(f, ax[i]), weekend=weekend, log=False\n",
    "    )\n",
    "    _ = pu.create_model(\n",
    "        data[project], fax=(f, ax[i]), weekend=weekend, ls=[(0, (1, 1)), \"-.\"]\n",
    "    )\n",
    "    ax[i].set_title(f\"{pu.plot_numbers[i]}) {project}\")\n",
    "for a in ax:\n",
    "    a.xaxis.set_tick_params(labelbottom=True)\n",
    "f.tight_layout()\n",
    "pu.add_legend((f, ax))\n",
    "\n",
    "if pu.save_fig:\n",
    "    f.savefig(pu.si_path / f\"Figure S8 A-F.pdf\")"
   ]
  },
  {
   "cell_type": "code",
   "execution_count": null,
   "metadata": {},
   "outputs": [],
   "source": [
    "f, ax = plt.subplots(1, 2, figsize=(pu.PAGE_WIDTH, 0.75 * pu.ROW_HEIGHT))\n",
    "ax = ax.flatten()\n",
    "for i, project in enumerate(pu.PROJECTS):\n",
    "    print(project)\n",
    "    pu.ci_plot(\n",
    "        ax[0],\n",
    "        i,\n",
    "        base_cooling_models_linear[project],\n",
    "        \"Treated\",\n",
    "        color=pu.dark_grey,\n",
    "        verb=True,\n",
    "        log=False,\n",
    "    )\n",
    "    pu.ci_plot(\n",
    "        ax[1],\n",
    "        i,\n",
    "        base_cooling_models_linear[project],\n",
    "        \"Tmean\",\n",
    "        color=pu.dark_grey,\n",
    "        verb=True,\n",
    "        log=False,\n",
    "    )\n",
    "    print()\n",
    "\n",
    "for a in ax:\n",
    "    a.set_xticks(range(len(pu.PROJECTS)))\n",
    "    a.set_xticklabels(pu.PROJECTS, rotation=25, ha=\"right\")\n",
    "ax[0].set_ylabel(\"Impact (MJ/m$^2$/day)\")\n",
    "ax[1].set_ylabel(\"Impact (MJ/m$^2$/day/$\\degree$F)\")\n",
    "ax[0].set_ylim(top=0)\n",
    "ax[1].set_ylim(bottom=0)\n",
    "\n",
    "title0 = (\n",
    "    f\"{pu.plot_numbers[6]}) \"\n",
    "    + \"Impact of 2$\\degree$F set point increase on energy for cooling\"\n",
    ")\n",
    "title1 = f\"{pu.plot_numbers[7]}) \" + \"Impact of mean daily OAT on energy for cooling\"\n",
    "ax[0].set_title(title0, ha=\"left\", loc=\"left\")\n",
    "ax[1].set_title(title1, ha=\"left\", loc=\"left\")\n",
    "\n",
    "f.tight_layout(w_pad=2.0)\n",
    "plt.subplots_adjust(top=0.85, bottom=0.27)\n",
    "if pu.save_fig:\n",
    "    f.savefig(pu.si_path / \"Figure S8 G-H.pdf\")"
   ]
  },
  {
   "cell_type": "markdown",
   "metadata": {},
   "source": [
    "## Table S6"
   ]
  },
  {
   "cell_type": "code",
   "execution_count": null,
   "metadata": {},
   "outputs": [],
   "source": [
    "with open(pu.si_path / \"Table S6.tex\", \"w\") as fw:\n",
    "    fw.write(\n",
    "        pu.si_table(\n",
    "            base_cooling_models_linear,\n",
    "            pu.PROJECTS,\n",
    "            caption=\"Additional numerical data for models shown in Figure S8 (alternate linear model for cooling).\",\n",
    "            label=\"table:s6\",\n",
    "        )\n",
    "    )"
   ]
  },
  {
   "cell_type": "code",
   "execution_count": null,
   "metadata": {},
   "outputs": [],
   "source": []
  }
 ],
 "metadata": {
  "kernelspec": {
   "display_name": "Python 3 (ipykernel)",
   "language": "python",
   "name": "python3"
  },
  "language_info": {
   "codemirror_mode": {
    "name": "ipython",
    "version": 3
   },
   "file_extension": ".py",
   "mimetype": "text/x-python",
   "name": "python",
   "nbconvert_exporter": "python",
   "pygments_lexer": "ipython3",
   "version": "3.10.8"
  }
 },
 "nbformat": 4,
 "nbformat_minor": 4
}
