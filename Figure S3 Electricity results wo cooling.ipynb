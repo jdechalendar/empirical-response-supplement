{
 "cells": [
  {
   "cell_type": "code",
   "execution_count": null,
   "metadata": {},
   "outputs": [],
   "source": [
    "%load_ext autoreload\n",
    "%autoreload 2\n",
    "%matplotlib inline"
   ]
  },
  {
   "cell_type": "code",
   "execution_count": null,
   "metadata": {},
   "outputs": [],
   "source": [
    "import matplotlib.pyplot as plt\n",
    "import pandas as pd\n",
    "import numpy as np\n",
    "\n",
    "import paper_utils as pu\n",
    "\n",
    "pu.set_plots()"
   ]
  },
  {
   "cell_type": "markdown",
   "metadata": {},
   "source": [
    "# Load data"
   ]
  },
  {
   "cell_type": "code",
   "execution_count": null,
   "metadata": {},
   "outputs": [],
   "source": [
    "data = {project: pu.load(project) for project in pu.PROJECTS}"
   ]
  },
  {
   "cell_type": "markdown",
   "metadata": {},
   "source": [
    "# Figure S3"
   ]
  },
  {
   "cell_type": "code",
   "execution_count": null,
   "metadata": {},
   "outputs": [],
   "source": [
    "base_electric_models = {}\n",
    "\n",
    "f, ax = plt.subplots(2, 3, figsize=(pu.PAGE_WIDTH, pu.ROW_HEIGHT * 2), sharex=True)\n",
    "ax = ax.flatten()\n",
    "for i, project in enumerate(pu.PROJECTS):\n",
    "    weekend = pu.choose_weekend[project]\n",
    "    pu.plot_base(\n",
    "        data[project],\n",
    "        fax=(f, ax[i]),\n",
    "        weekend=weekend,\n",
    "        y=\"electricity\",\n",
    "        ylabel=\"Electric load w/o cooling\\n(kWh/m$^2$/day)\",\n",
    "    )\n",
    "    base_electric_models[project] = pu.create_model(\n",
    "        data[project].dropna(),\n",
    "        fax=(f, ax[i]),\n",
    "        weekend=weekend,\n",
    "        y=\"electricity\",\n",
    "        log=True,\n",
    "    )\n",
    "    ax[i].set_title(f\"{pu.plot_numbers[i]}) {project}\")\n",
    "for a in ax:\n",
    "    a.xaxis.set_tick_params(labelbottom=True)\n",
    "f.tight_layout()\n",
    "pu.add_legend((f, ax))\n",
    "if pu.save_fig:\n",
    "    f.savefig(pu.si_path / f\"Figure S3 A-F.pdf\")"
   ]
  },
  {
   "cell_type": "code",
   "execution_count": null,
   "metadata": {},
   "outputs": [],
   "source": [
    "f, ax = plt.subplots(1, 2, figsize=(pu.PAGE_WIDTH, pu.ROW_HEIGHT * 0.75))\n",
    "ax = ax.flatten()\n",
    "for i, project in enumerate(pu.PROJECTS):\n",
    "    print(project)\n",
    "    pu.ci_plot(\n",
    "        ax[0],\n",
    "        i,\n",
    "        base_electric_models[project],\n",
    "        \"Treated\",\n",
    "        color=pu.dark_grey,\n",
    "        verb=True,\n",
    "    )\n",
    "    pu.ci_plot(\n",
    "        ax[1], i, base_electric_models[project], \"Tmean\", color=pu.dark_grey, verb=True\n",
    "    )\n",
    "    print()\n",
    "\n",
    "for a in ax:\n",
    "    a.set_xticks(range(len(pu.PROJECTS)))\n",
    "    a.set_xticklabels(pu.PROJECTS, rotation=25, ha=\"right\")\n",
    "ax[0].set_ylabel(\"Impact (%)\")\n",
    "ax[1].set_ylabel(\"Impact (%/$\\degree$F)\")\n",
    "# ax[0].set_ylim(top=0)\n",
    "# ax[1].set_ylim(bottom=0)\n",
    "\n",
    "title0 = (\n",
    "    f\"{pu.plot_numbers[6]}) \"\n",
    "    + \"Impact of 2$\\degree$F set point increase on electric load\\n(excludes electricity for cooling water)\"\n",
    ")\n",
    "title1 = (\n",
    "    f\"{pu.plot_numbers[7]}) \"\n",
    "    + \"Impact of mean daily OAT on daily electric load\\n(excludes electricity for cooling water)\"\n",
    ")\n",
    "\n",
    "ax[0].set_title(title0, ha=\"left\", loc=\"left\")\n",
    "ax[1].set_title(title1, ha=\"left\", loc=\"left\")\n",
    "\n",
    "f.tight_layout(w_pad=2.0)\n",
    "plt.subplots_adjust(top=0.8, bottom=0.27)\n",
    "if pu.save_fig:\n",
    "    f.savefig(pu.si_path / \"Figure S3 G-H.pdf\")"
   ]
  },
  {
   "cell_type": "markdown",
   "metadata": {},
   "source": [
    "# Table S3"
   ]
  },
  {
   "cell_type": "code",
   "execution_count": null,
   "metadata": {},
   "outputs": [],
   "source": [
    "with open(pu.si_path / \"Table S3.tex\", \"w\") as fw:\n",
    "    fw.write(\n",
    "        pu.si_table(\n",
    "            base_electric_models,\n",
    "            pu.PROJECTS,\n",
    "            caption=\"Additional numerical results for models shown in Figure S3 (electricity excluding for cooling water).\",\n",
    "            label=\"table:s3\",\n",
    "        )\n",
    "    )"
   ]
  },
  {
   "cell_type": "code",
   "execution_count": null,
   "metadata": {},
   "outputs": [],
   "source": []
  }
 ],
 "metadata": {
  "kernelspec": {
   "display_name": "Python 3 (ipykernel)",
   "language": "python",
   "name": "python3"
  },
  "language_info": {
   "codemirror_mode": {
    "name": "ipython",
    "version": 3
   },
   "file_extension": ".py",
   "mimetype": "text/x-python",
   "name": "python",
   "nbconvert_exporter": "python",
   "pygments_lexer": "ipython3",
   "version": "3.10.8"
  }
 },
 "nbformat": 4,
 "nbformat_minor": 4
}
