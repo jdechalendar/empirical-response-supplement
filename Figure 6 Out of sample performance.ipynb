{
 "cells": [
  {
   "cell_type": "code",
   "execution_count": null,
   "metadata": {},
   "outputs": [],
   "source": [
    "%load_ext autoreload\n",
    "%autoreload 2\n",
    "%matplotlib inline"
   ]
  },
  {
   "cell_type": "code",
   "execution_count": null,
   "metadata": {},
   "outputs": [],
   "source": [
    "import matplotlib.pyplot as plt\n",
    "\n",
    "import pandas as pd\n",
    "import numpy as np\n",
    "from sklearn import metrics\n",
    "\n",
    "import paper_utils as pu\n",
    "\n",
    "pu.set_plots()"
   ]
  },
  {
   "cell_type": "markdown",
   "metadata": {},
   "source": [
    "# Load data"
   ]
  },
  {
   "cell_type": "code",
   "execution_count": null,
   "metadata": {},
   "outputs": [],
   "source": [
    "data = {project: pu.load(project) for project in pu.PROJECTS}\n",
    "\n",
    "# Remove weekends for those projects where we don't use weekends\n",
    "for project in data:\n",
    "    if not pu.choose_weekend[project]:\n",
    "        weekday = data[project].index.weekday.isin(range(5))\n",
    "        data[project] = data[project].loc[weekday, :].copy(deep=True)"
   ]
  },
  {
   "cell_type": "code",
   "execution_count": null,
   "metadata": {},
   "outputs": [],
   "source": [
    "test_dates = [\n",
    "    \"2021-08-03\",\n",
    "    \"2021-08-04\",\n",
    "    \"2021-08-05\",\n",
    "    \"2021-08-06\",\n",
    "    \"2021-08-09\",\n",
    "    \"2021-08-10\",\n",
    "    \"2021-08-11\",\n",
    "    \"2021-08-12\",\n",
    "    \"2021-08-13\",\n",
    "    \"2021-08-17\",\n",
    "]"
   ]
  },
  {
   "cell_type": "code",
   "execution_count": null,
   "metadata": {},
   "outputs": [],
   "source": [
    "for p in data:\n",
    "    print(len(data[p].loc[:\"2021-08-02\"]))"
   ]
  },
  {
   "cell_type": "code",
   "execution_count": null,
   "metadata": {},
   "outputs": [],
   "source": [
    "test_data = {}\n",
    "train_data = {}\n",
    "test_sz = 10\n",
    "\n",
    "for p in data:\n",
    "    test_data[p] = data[p].loc[test_dates].copy(deep=True)\n",
    "    train_data[p] = data[p].loc[:\"2021-08-02\"].iloc[0:34].copy(deep=True)"
   ]
  },
  {
   "cell_type": "code",
   "execution_count": null,
   "metadata": {},
   "outputs": [],
   "source": [
    "models = {p: {} for p in data}\n",
    "preds = {p: {} for p in data}\n",
    "scores = {p: {} for p in data}\n",
    "for p in train_data:\n",
    "    for n in range(10, len(train_data[p])):\n",
    "        weekend = pu.choose_weekend[p]\n",
    "        models[p][n] = pu.create_model(train_data[p].iloc[0:n], weekend=weekend)\n",
    "        preds[p][n] = pu.predict(models[p][n], test_data[p], weekend=weekend)\n",
    "        scores[p][n] = metrics.mean_absolute_percentage_error(*preds[p][n])\n",
    "\n",
    "total_preds = {}\n",
    "total_scores = {}\n",
    "for n in range(10, len(train_data[p])):\n",
    "    total_preds[n] = (\n",
    "        sum(preds[p][n][0] for p in preds),\n",
    "        sum(preds[p][n][1] for p in preds),\n",
    "    )\n",
    "    total_scores[n] = metrics.mean_absolute_percentage_error(*total_preds[n])"
   ]
  },
  {
   "cell_type": "code",
   "execution_count": null,
   "metadata": {},
   "outputs": [],
   "source": [
    "scores = pd.DataFrame(scores)\n",
    "f, ax = plt.subplots(figsize=(pu.PAGE_WIDTH / 2, 0.75 * pu.ROW_HEIGHT))\n",
    "for p in scores.columns:\n",
    "    ax.plot(scores[p] * 100, label=p)\n",
    "ax.plot(pd.Series(total_scores) * 100, label=\"Portfolio\", color=\"k\", ls=\"--\")\n",
    "ax.set_ylabel(\"Test set MAPE (%)\")\n",
    "ax.set_xlabel(\"Number of observations in training set\")\n",
    "ax.set_ylim(bottom=0)\n",
    "ax.legend(loc=6, bbox_to_anchor=(1, 0.5))\n",
    "f.tight_layout()\n",
    "if pu.save_fig:\n",
    "    f.savefig(pu.fig_path / \"Figure 6.pdf\")"
   ]
  },
  {
   "cell_type": "code",
   "execution_count": null,
   "metadata": {},
   "outputs": [],
   "source": []
  }
 ],
 "metadata": {
  "kernelspec": {
   "display_name": "Python 3 (ipykernel)",
   "language": "python",
   "name": "python3"
  },
  "language_info": {
   "codemirror_mode": {
    "name": "ipython",
    "version": 3
   },
   "file_extension": ".py",
   "mimetype": "text/x-python",
   "name": "python",
   "nbconvert_exporter": "python",
   "pygments_lexer": "ipython3",
   "version": "3.10.8"
  }
 },
 "nbformat": 4,
 "nbformat_minor": 4
}
