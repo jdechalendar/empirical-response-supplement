{
 "cells": [
  {
   "cell_type": "code",
   "execution_count": null,
   "metadata": {},
   "outputs": [],
   "source": [
    "%load_ext autoreload\n",
    "%autoreload 2\n",
    "%matplotlib inline"
   ]
  },
  {
   "cell_type": "code",
   "execution_count": null,
   "metadata": {},
   "outputs": [],
   "source": [
    "import matplotlib.pyplot as plt\n",
    "import pandas as pd\n",
    "import numpy as np\n",
    "\n",
    "import paper_utils as pu\n",
    "\n",
    "pu.set_plots()"
   ]
  },
  {
   "cell_type": "markdown",
   "metadata": {},
   "source": [
    "# Load data"
   ]
  },
  {
   "cell_type": "code",
   "execution_count": null,
   "metadata": {},
   "outputs": [],
   "source": [
    "data = {project: pu.load(project) for project in pu.PROJECTS}"
   ]
  },
  {
   "cell_type": "markdown",
   "metadata": {},
   "source": [
    "# Figure 3"
   ]
  },
  {
   "cell_type": "code",
   "execution_count": null,
   "metadata": {},
   "outputs": [],
   "source": [
    "all_elec_models = {}\n",
    "\n",
    "for COP in [3, 5.5, 8]:\n",
    "    y_all = f\"all_elec_COP_{COP}\"\n",
    "    all_elec_models[COP] = {}\n",
    "\n",
    "    f, ax = plt.subplots(2, 3, figsize=(pu.PAGE_WIDTH, pu.ROW_HEIGHT * 2), sharex=True)\n",
    "    ax = ax.flatten()\n",
    "\n",
    "    for i, project in enumerate(pu.PROJECTS):\n",
    "        data[project][y_all] = (\n",
    "            data[project][\"cooling\"] * pu.cop_to_kWe_per_MJc(COP)\n",
    "            + data[project][\"electricity\"]\n",
    "        )\n",
    "        weekend = pu.choose_weekend[project]\n",
    "        pu.plot_base(\n",
    "            data[project],\n",
    "            fax=(f, ax[i]),\n",
    "            weekend=weekend,\n",
    "            y=y_all,\n",
    "            ylabel=f\"Total electric load (COP: {COP})\\n(kWh/m$^2$/day)\",\n",
    "        )\n",
    "        all_elec_models[COP][project] = pu.create_model(\n",
    "            data[project].dropna(), fax=(f, ax[i]), weekend=weekend, y=y_all, log=True\n",
    "        )\n",
    "        ax[i].set_title(f\"{pu.plot_numbers[i]}) {project}\")\n",
    "\n",
    "    for a in ax:\n",
    "        a.xaxis.set_tick_params(labelbottom=True)\n",
    "    f.tight_layout()\n",
    "    pu.add_legend((f, ax))\n",
    "\n",
    "    if COP != 5.5:\n",
    "        plt.close(f)\n",
    "    else:\n",
    "        if pu.save_fig:\n",
    "            f.savefig(pu.fig_path / f\"Figure 3 A-F.pdf\")"
   ]
  },
  {
   "cell_type": "code",
   "execution_count": null,
   "metadata": {},
   "outputs": [],
   "source": [
    "ms = [1, 1, 1, 1, 1]\n",
    "f, ax = plt.subplots(1, 2, figsize=(pu.PAGE_WIDTH, pu.ROW_HEIGHT * 0.8))\n",
    "ax = ax.flatten()\n",
    "\n",
    "j = -0.1\n",
    "for iq, q in enumerate(all_elec_models.keys()):\n",
    "    verb = q == 5.5\n",
    "    for i, project in enumerate(pu.PROJECTS):\n",
    "        if verb:\n",
    "            print(project)\n",
    "        pu.ci_plot(\n",
    "            ax[0],\n",
    "            i + j,\n",
    "            all_elec_models[q][project],\n",
    "            \"Treated\",\n",
    "            color=pu.COLORS[iq],\n",
    "            ms=ms[iq],\n",
    "            verb=verb,\n",
    "        )\n",
    "        pu.ci_plot(\n",
    "            ax[1],\n",
    "            i + j,\n",
    "            all_elec_models[q][project],\n",
    "            \"Tmean\",\n",
    "            color=pu.COLORS[iq],\n",
    "            ms=ms[iq],\n",
    "            verb=verb,\n",
    "        )\n",
    "        if verb:\n",
    "            print()\n",
    "    j += 0.1\n",
    "\n",
    "\n",
    "for a in ax:\n",
    "    a.set_xticks(range(len(pu.PROJECTS)))\n",
    "    a.set_xticklabels(pu.PROJECTS, rotation=30, ha=\"right\")\n",
    "ax[0].set_ylabel(\"Impact (%)\")\n",
    "ax[1].set_ylabel(\"Impact (%/F)\")\n",
    "\n",
    "title0 = (\n",
    "    f\"{pu.plot_numbers[6]}) \"\n",
    "    + \"Impact of 2$\\degree$F set point increase on electric load\\n(includes electricity for cooling water)\"\n",
    ")\n",
    "title1 = (\n",
    "    f\"{pu.plot_numbers[7]}) \"\n",
    "    + \"Impact of mean daily OAT on electric load\\n(includes electricity for cooling water)\"\n",
    ")\n",
    "\n",
    "\n",
    "ax[0].set_title(title0, ha=\"left\", loc=\"left\")\n",
    "ax[1].set_title(title1, ha=\"left\", loc=\"left\")\n",
    "\n",
    "f.tight_layout(w_pad=2.0)\n",
    "plt.subplots_adjust(top=0.8, bottom=0.4)\n",
    "\n",
    "for i, cop in enumerate(all_elec_models.keys()):\n",
    "    # cop = 1/(val * constants.kW_to_ton)\n",
    "    ax[-1].plot([], [], \"o\", color=pu.COLORS[i], label=f\"COP: {cop:.1f}\", ms=2)\n",
    "ax[-1].legend(loc=8, bbox_transform=f.transFigure, bbox_to_anchor=(0.5, 0.01), ncol=3)\n",
    "\n",
    "if pu.save_fig:\n",
    "    f.savefig(pu.fig_path / \"Figure 3 G-H.pdf\")"
   ]
  },
  {
   "cell_type": "markdown",
   "metadata": {},
   "source": [
    "# Figure S2 Remake\n",
    "Sanity check for notebook on Figure 2"
   ]
  },
  {
   "cell_type": "code",
   "execution_count": null,
   "metadata": {},
   "outputs": [],
   "source": [
    "data = {project: pu.load(project) for project in pu.PROJECTS}\n",
    "\n",
    "elec_cooling_models = {}\n",
    "\n",
    "for COP in [3, 5.5, 8]:\n",
    "    y = f\"cooling_elec_COP_{COP}\"\n",
    "\n",
    "    elec_cooling_models[COP] = {}\n",
    "\n",
    "    f, ax = plt.subplots(2, 3, figsize=(pu.PAGE_WIDTH, pu.ROW_HEIGHT * 2), sharex=True)\n",
    "    ax = ax.flatten()\n",
    "\n",
    "    for i, project in enumerate(pu.PROJECTS):\n",
    "        data[project][y] = data[project][\"cooling\"] * pu.cop_to_kWe_per_MJc(COP)\n",
    "\n",
    "        weekend = pu.choose_weekend[project]\n",
    "        pu.plot_base(\n",
    "            data[project],\n",
    "            fax=(f, ax[i]),\n",
    "            weekend=weekend,\n",
    "            y=y,\n",
    "            ylabel=\"Electric load for cooling\\n(kWh/m$^2$/day)\",\n",
    "        )\n",
    "        elec_cooling_models[COP][project] = pu.create_model(\n",
    "            data[project].dropna(), fax=(f, ax[i]), weekend=weekend, y=y, log=True\n",
    "        )\n",
    "        ax[i].set_title(project)\n",
    "\n",
    "    for a in ax:\n",
    "        a.xaxis.set_tick_params(labelbottom=True)\n",
    "    f.tight_layout()\n",
    "    pu.add_legend((f, ax))\n",
    "\n",
    "    if COP != 5.5:\n",
    "        plt.close(f)"
   ]
  },
  {
   "cell_type": "markdown",
   "metadata": {},
   "source": [
    "# Table S4"
   ]
  },
  {
   "cell_type": "code",
   "execution_count": null,
   "metadata": {},
   "outputs": [],
   "source": [
    "cop = 5.5\n",
    "with open(pu.si_path / f\"Table S4.tex\", \"w\") as fw:\n",
    "    fw.write(\n",
    "        pu.si_table(\n",
    "            all_elec_models[cop],\n",
    "            pu.PROJECTS,\n",
    "            caption=\"Additional numerical data for models shown in Figure 3 (electricity results with cooling).\",\n",
    "            label=\"table:s4\",\n",
    "        )\n",
    "    )"
   ]
  }
 ],
 "metadata": {
  "kernelspec": {
   "display_name": "Python 3 (ipykernel)",
   "language": "python",
   "name": "python3"
  },
  "language_info": {
   "codemirror_mode": {
    "name": "ipython",
    "version": 3
   },
   "file_extension": ".py",
   "mimetype": "text/x-python",
   "name": "python",
   "nbconvert_exporter": "python",
   "pygments_lexer": "ipython3",
   "version": "3.10.8"
  }
 },
 "nbformat": 4,
 "nbformat_minor": 4
}
