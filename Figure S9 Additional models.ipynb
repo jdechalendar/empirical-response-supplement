{
 "cells": [
  {
   "cell_type": "code",
   "execution_count": null,
   "metadata": {},
   "outputs": [],
   "source": [
    "%load_ext autoreload\n",
    "%autoreload 2\n",
    "%matplotlib inline"
   ]
  },
  {
   "cell_type": "code",
   "execution_count": null,
   "metadata": {},
   "outputs": [],
   "source": [
    "import matplotlib.pyplot as plt\n",
    "import pandas as pd\n",
    "import numpy as np\n",
    "\n",
    "import paper_utils as pu\n",
    "\n",
    "pu.set_plots()"
   ]
  },
  {
   "cell_type": "markdown",
   "metadata": {},
   "source": [
    "# Load data"
   ]
  },
  {
   "cell_type": "code",
   "execution_count": null,
   "metadata": {},
   "outputs": [],
   "source": [
    "data = {project: pu.load(project) for project in pu.PROJECTS}"
   ]
  },
  {
   "cell_type": "markdown",
   "metadata": {},
   "source": [
    "## With and without weekends"
   ]
  },
  {
   "cell_type": "code",
   "execution_count": null,
   "metadata": {},
   "outputs": [],
   "source": [
    "cooling_models_with_weekends = {}\n",
    "\n",
    "weekend = True\n",
    "\n",
    "f, ax = plt.subplots(2, 3, figsize=(pu.PAGE_WIDTH, pu.ROW_HEIGHT * 2), sharex=True)\n",
    "ax = ax.flatten()\n",
    "for i, project in enumerate(pu.PROJECTS):\n",
    "    pu.plot_base(data[project], fax=(f, ax[i]), weekend=weekend)\n",
    "    cooling_models_with_weekends[project] = pu.create_model(\n",
    "        data[project], fax=(f, ax[i]), weekend=weekend\n",
    "    )\n",
    "    ax[i].set_title(project)\n",
    "for a in ax:\n",
    "    a.xaxis.set_tick_params(labelbottom=True)\n",
    "f.tight_layout()\n",
    "pu.add_legend((f, ax))\n",
    "\n",
    "cooling_models_no_weekends = {}\n",
    "\n",
    "weekend = False\n",
    "\n",
    "f, ax = plt.subplots(2, 3, figsize=(pu.PAGE_WIDTH, pu.ROW_HEIGHT * 2), sharex=True)\n",
    "ax = ax.flatten()\n",
    "for i, project in enumerate(pu.PROJECTS):\n",
    "    pu.plot_base(data[project], fax=(f, ax[i]), weekend=weekend)\n",
    "    cooling_models_no_weekends[project] = pu.create_model(\n",
    "        data[project], fax=(f, ax[i]), weekend=weekend\n",
    "    )\n",
    "    ax[i].set_title(project)\n",
    "for a in ax:\n",
    "    a.xaxis.set_tick_params(labelbottom=True)\n",
    "f.tight_layout()\n",
    "pu.add_legend((f, ax))"
   ]
  },
  {
   "cell_type": "markdown",
   "metadata": {},
   "source": [
    "## Using the median actual setpoint instead of the scheduled setpoint"
   ]
  },
  {
   "cell_type": "code",
   "execution_count": null,
   "metadata": {},
   "outputs": [],
   "source": [
    "cooling_models_med_sp = {}\n",
    "\n",
    "f, ax = plt.subplots(2, 3, figsize=(pu.PAGE_WIDTH, pu.ROW_HEIGHT * 2), sharex=True)\n",
    "ax = ax.flatten()\n",
    "for i, project in enumerate(pu.PROJECTS):\n",
    "    weekend = pu.choose_weekend[project]\n",
    "    pu.plot_base(data[project], fax=(f, ax[i]), weekend=weekend)\n",
    "    cooling_models_med_sp[project] = pu.create_model(\n",
    "        data[project], fax=(f, ax[i]), treated=\"med_sp_bin\", weekend=weekend\n",
    "    )\n",
    "    ax[i].set_title(project)\n",
    "for a in ax:\n",
    "    a.xaxis.set_tick_params(labelbottom=True)\n",
    "f.tight_layout()\n",
    "pu.add_legend((f, ax))"
   ]
  },
  {
   "cell_type": "markdown",
   "metadata": {},
   "source": [
    "## Additional weather variables"
   ]
  },
  {
   "cell_type": "code",
   "execution_count": null,
   "metadata": {},
   "outputs": [],
   "source": [
    "cooling_models_TminTmax = {}\n",
    "cooling_models_sun_rad = {}\n",
    "cooling_models_wind = {}\n",
    "cooling_models_RH = {}\n",
    "\n",
    "for i, project in enumerate(pu.PROJECTS):\n",
    "    weekend = pu.choose_weekend[project]\n",
    "    cooling_models_TminTmax[project] = pu.create_model(\n",
    "        data[project], x_variables=[\"Tmean\", \"Tmin\", \"Tmax\"], weekend=weekend\n",
    "    )\n",
    "    cooling_models_sun_rad[project] = pu.create_model(\n",
    "        data[project], x_variables=[\"Tmean\", \"sun_rad_mean\"], weekend=weekend\n",
    "    )\n",
    "    cooling_models_wind[project] = pu.create_model(\n",
    "        data[project], x_variables=[\"Tmean\", \"wind_mean\"], weekend=weekend\n",
    "    )\n",
    "    cooling_models_RH[project] = pu.create_model(\n",
    "        data[project], x_variables=[\"Tmean\", \"RH_mean\"], weekend=weekend\n",
    "    )"
   ]
  },
  {
   "cell_type": "markdown",
   "metadata": {},
   "source": [
    "## Comparing the different models"
   ]
  },
  {
   "cell_type": "code",
   "execution_count": null,
   "metadata": {},
   "outputs": [],
   "source": [
    "model_list = [\n",
    "    cooling_models_no_weekends,\n",
    "    cooling_models_with_weekends,\n",
    "    cooling_models_med_sp,\n",
    "    cooling_models_TminTmax,\n",
    "    cooling_models_sun_rad,\n",
    "    cooling_models_wind,\n",
    "    cooling_models_RH,\n",
    "]\n",
    "names = [\n",
    "    \"(a) No weekends\",\n",
    "    \"(b) With weekends\",\n",
    "    \"(c) Actual med. setpoint\",\n",
    "    \"(d) With Tmax/Tmin\",\n",
    "    \"(e) With solar\",\n",
    "    \"(f) With wind\",\n",
    "    \"(g) With RH\",\n",
    "]\n",
    "\n",
    "# f, ax = plt.subplots(1, 2, figsize=(PAGE_WIDTH*.47, ROW_HEIGHT*1.5), sharex=True)\n",
    "f, ax = plt.subplots(1, 2, figsize=(pu.PAGE_WIDTH, pu.ROW_HEIGHT * 0.75))\n",
    "ax = ax.flatten()\n",
    "\n",
    "colors = [\n",
    "    pu.custom_blue,\n",
    "    pu.custom_orange,\n",
    "    pu.custom_green,\n",
    "    pu.cardinal_red,\n",
    "    pu.sage,\n",
    "    pu.dark_grey,\n",
    "    pu.light_grey,\n",
    "]\n",
    "\n",
    "j = -0.3\n",
    "for im, model in enumerate(model_list):\n",
    "    for i, project in enumerate(pu.PROJECTS):\n",
    "        pu.ci_plot(ax[0], i + j, model[project], \"Treated\", color=colors[im])\n",
    "        pu.ci_plot(ax[1], i + j, model[project], \"Tmean\", color=colors[im])\n",
    "    j += 0.1\n",
    "\n",
    "for a in ax:\n",
    "    a.set_xticks(range(len(pu.PROJECTS)))\n",
    "    a.set_xticklabels(pu.PROJECTS, rotation=25, ha=\"right\")\n",
    "ax[0].set_ylabel(\"Impact (%)\")\n",
    "ax[1].set_ylabel(\"Impact (%/$\\degree$F)\")\n",
    "\n",
    "ax[0].set_ylim(top=0)\n",
    "ax[1].set_ylim(bottom=0)\n",
    "\n",
    "title0 = (\n",
    "    f\"{pu.plot_numbers[0]}) \"\n",
    "    + \"Impact of 2$\\degree$F setpoint increase on energy for cooling\"\n",
    ")\n",
    "title1 = f\"{pu.plot_numbers[1]}) \" + \"Impact of mean daily OAT on energy for cooling\"\n",
    "\n",
    "ax[0].set_title(title0, ha=\"left\", loc=\"left\")\n",
    "ax[1].set_title(title1, ha=\"left\", loc=\"left\")\n",
    "\n",
    "f.tight_layout(w_pad=2.0)\n",
    "plt.subplots_adjust(top=0.87, bottom=0.4)\n",
    "\n",
    "for i, name in enumerate(names):\n",
    "    ax[-1].plot([], [], \"o\", color=colors[i], label=name, ms=2)\n",
    "ax[-1].legend(loc=8, bbox_transform=f.transFigure, bbox_to_anchor=(0.5, 0.01), ncol=4)\n",
    "if pu.save_fig:\n",
    "    f.savefig(pu.si_path / \"Figure S9-AB.pdf\")"
   ]
  },
  {
   "cell_type": "code",
   "execution_count": null,
   "metadata": {},
   "outputs": [],
   "source": [
    "f, ax = plt.subplots(1, 1, figsize=(pu.PAGE_WIDTH, pu.ROW_HEIGHT * 0.75))\n",
    "\n",
    "j = -0.3\n",
    "for im, model in enumerate(model_list):\n",
    "    for i, project in enumerate(pu.PROJECTS):\n",
    "        ax.bar(\n",
    "            i + j,\n",
    "            float(model[project].summary2().tables[0].loc[0, 3]),\n",
    "            0.08,\n",
    "            color=colors[im],\n",
    "        )\n",
    "    j += 0.1\n",
    "ax.set_title(\n",
    "    f\"{pu.plot_numbers[2]}) \" + \"Model goodness-of-fit (Adjusted R$^2$)\",\n",
    "    ha=\"left\",\n",
    "    loc=\"left\",\n",
    ")\n",
    "ax.set_xticks(range(len(pu.PROJECTS)))\n",
    "ax.set_xticklabels(pu.PROJECTS, rotation=25, ha=\"right\")\n",
    "plt.subplots_adjust(top=0.85, bottom=0.25)\n",
    "if pu.save_fig:\n",
    "    f.savefig(pu.si_path / \"Figure S9-C.pdf\")"
   ]
  },
  {
   "cell_type": "code",
   "execution_count": null,
   "metadata": {},
   "outputs": [],
   "source": []
  }
 ],
 "metadata": {
  "kernelspec": {
   "display_name": "Python 3 (ipykernel)",
   "language": "python",
   "name": "python3"
  },
  "language_info": {
   "codemirror_mode": {
    "name": "ipython",
    "version": 3
   },
   "file_extension": ".py",
   "mimetype": "text/x-python",
   "name": "python",
   "nbconvert_exporter": "python",
   "pygments_lexer": "ipython3",
   "version": "3.10.8"
  }
 },
 "nbformat": 4,
 "nbformat_minor": 4
}
