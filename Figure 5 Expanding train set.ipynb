{
 "cells": [
  {
   "cell_type": "code",
   "execution_count": null,
   "metadata": {},
   "outputs": [],
   "source": [
    "%load_ext autoreload\n",
    "%autoreload 2\n",
    "%matplotlib inline"
   ]
  },
  {
   "cell_type": "code",
   "execution_count": null,
   "metadata": {},
   "outputs": [],
   "source": [
    "make_gif = False  # In this case, need the imageio library"
   ]
  },
  {
   "cell_type": "code",
   "execution_count": null,
   "metadata": {},
   "outputs": [],
   "source": [
    "import matplotlib.pyplot as plt\n",
    "\n",
    "if make_gif:\n",
    "    import imageio\n",
    "import pandas as pd\n",
    "import numpy as np\n",
    "from sklearn import metrics\n",
    "\n",
    "import paper_utils as pu\n",
    "\n",
    "pu.set_plots()"
   ]
  },
  {
   "cell_type": "markdown",
   "metadata": {},
   "source": [
    "# Load data"
   ]
  },
  {
   "cell_type": "code",
   "execution_count": null,
   "metadata": {},
   "outputs": [],
   "source": [
    "data = {project: pu.load(project) for project in pu.PROJECTS}\n",
    "\n",
    "# Remove weekends for those projects where we don't use weekends\n",
    "for project in data:\n",
    "    if not pu.choose_weekend[project]:\n",
    "        weekday = data[project].index.weekday.isin(range(5))\n",
    "        data[project] = data[project].loc[weekday, :].copy(deep=True)"
   ]
  },
  {
   "cell_type": "markdown",
   "metadata": {},
   "source": [
    "# Figure 6"
   ]
  },
  {
   "cell_type": "markdown",
   "metadata": {},
   "source": [
    "## Build models and make Figure S13"
   ]
  },
  {
   "cell_type": "code",
   "execution_count": null,
   "metadata": {},
   "outputs": [],
   "source": [
    "def make_plot(data, cooling_load_unit, n, fig_name, ylims=None, return_ylims=False):\n",
    "    models = {}\n",
    "    f, ax = plt.subplots(2, 3, figsize=(pu.PAGE_WIDTH, pu.ROW_HEIGHT * 2), sharex=True)\n",
    "    ax = ax.flatten()\n",
    "    for i, project in enumerate(pu.PROJECTS):\n",
    "        weekend = pu.choose_weekend[project]\n",
    "        pu.plot_base(\n",
    "            data[project].iloc[0:n],\n",
    "            fax=(f, ax[i]),\n",
    "            weekend=weekend,\n",
    "            cooling_load_unit=cooling_load_unit,\n",
    "        )\n",
    "        models[project] = pu.create_model(\n",
    "            data[project].iloc[0:n], fax=(f, ax[i]), weekend=weekend\n",
    "        )\n",
    "        if n > len(data[project]):\n",
    "            models[project] = None\n",
    "        ax[i].set_title(f\"{pu.plot_numbers[i]}) {project}\")\n",
    "        if ylims is not None:\n",
    "            ax[i].set_ylim(ylims[project])\n",
    "    for a in ax:\n",
    "        a.xaxis.set_tick_params(labelbottom=True)\n",
    "        a.set_xlim((60.64895833333334, 76.896875))\n",
    "\n",
    "    f.tight_layout()\n",
    "    pu.add_legend((f, ax))\n",
    "    if return_ylims:\n",
    "        return {p: ax[i].get_ylim() for i, p in enumerate(data)}\n",
    "    if make_gif:\n",
    "        f.savefig(fig_name)\n",
    "    return models"
   ]
  },
  {
   "cell_type": "code",
   "execution_count": null,
   "metadata": {},
   "outputs": [],
   "source": [
    "ylims = make_plot(data, \"MJ_per_m2\", 100, \"\", return_ylims=True)"
   ]
  },
  {
   "cell_type": "code",
   "execution_count": null,
   "metadata": {},
   "outputs": [],
   "source": [
    "models = {p: {} for p in data}\n",
    "cases = range(10, 77, 2)\n",
    "\n",
    "folder_name = pu.si_path / \"Figure S13\"\n",
    "folder_name.mkdir(exist_ok=True)\n",
    "for i, n in enumerate(cases):\n",
    "    m = make_plot(data, \"MJ_per_m2\", n, folder_name / f\"{i}.png\", ylims=ylims)\n",
    "    for p in data:\n",
    "        if m[p] is not None:\n",
    "            models[p][n] = m[p]\n",
    "    plt.close()"
   ]
  },
  {
   "cell_type": "code",
   "execution_count": null,
   "metadata": {},
   "outputs": [],
   "source": [
    "if make_gif:\n",
    "    with imageio.get_writer(pu.si_path / \"Figure S13.gif\", mode=\"I\") as writer:\n",
    "        for i, n in enumerate(cases):\n",
    "            filename = folder_name / f\"{i}.png\"\n",
    "            image = imageio.imread(filename)\n",
    "            writer.append_data(image)"
   ]
  },
  {
   "cell_type": "markdown",
   "metadata": {},
   "source": [
    "## Make figure 6"
   ]
  },
  {
   "cell_type": "code",
   "execution_count": null,
   "metadata": {},
   "outputs": [],
   "source": [
    "f, ax = plt.subplots(1, 2, figsize=(pu.PAGE_WIDTH, 0.75 * pu.ROW_HEIGHT))\n",
    "ax = ax.flatten()\n",
    "\n",
    "cases_as_array = np.array(cases)\n",
    "\n",
    "\n",
    "def interp(x):\n",
    "    return np.interp(x, (cases_as_array.min(), cases_as_array.max()), (0.0, 0.9))\n",
    "\n",
    "\n",
    "max_n = {p: max(models[p].keys()) for p in models}\n",
    "for j, project in enumerate(pu.PROJECTS):\n",
    "    for i, n in enumerate(models[project]):\n",
    "        xpos = j - interp(max_n[project]) + interp(n)\n",
    "        pu.ci_plot(\n",
    "            ax[0],\n",
    "            xpos,\n",
    "            models[project][n],\n",
    "            \"Treated\",\n",
    "            color=pu.dark_grey,\n",
    "            alpha=0.5,\n",
    "            lw=0.5,\n",
    "            ms=0.5,\n",
    "        )\n",
    "        pu.ci_plot(\n",
    "            ax[1],\n",
    "            xpos,\n",
    "            models[project][n],\n",
    "            \"Tmean\",\n",
    "            color=pu.dark_grey,\n",
    "            alpha=0.5,\n",
    "            lw=0.5,\n",
    "            ms=0.5,\n",
    "        )\n",
    "\n",
    "for a in ax:\n",
    "    a.set_xticks(range(len(pu.PROJECTS)))\n",
    "    a.set_xticklabels(pu.PROJECTS, rotation=25, ha=\"right\")\n",
    "ax[0].set_ylabel(\"Impact (%)\")\n",
    "ax[1].set_ylabel(\"Impact (%/$\\degree$F)\")\n",
    "# ax[0].set_ylim(top=0)\n",
    "ax[1].set_ylim(bottom=0)\n",
    "\n",
    "# Add arrows\n",
    "dy = 0\n",
    "head_width_rel = 0.03\n",
    "ypos_rel = 0.85\n",
    "ylim0 = ax[0].get_ylim()\n",
    "ylim1 = ax[1].get_ylim()\n",
    "\n",
    "for j, project in enumerate(pu.PROJECTS):\n",
    "    xpos = j - interp(max_n[project]) + interp(5)\n",
    "    dx = interp(max_n[project]) - interp(10)\n",
    "    head_width = head_width_rel * (ylim0[1] - ylim0[0])\n",
    "    ypos = ylim0[0] + ypos_rel * (ylim0[1] - ylim0[0])\n",
    "    ax[0].arrow(\n",
    "        xpos,\n",
    "        ypos,\n",
    "        dx,\n",
    "        dy,\n",
    "        lw=0.5,\n",
    "        length_includes_head=True,\n",
    "        head_width=head_width,\n",
    "        head_length=0.1,\n",
    "        ec=\"k\",\n",
    "        fc=\"k\",\n",
    "        alpha=0.5,\n",
    "    )\n",
    "    ax[0].text(\n",
    "        xpos + dx / 2,\n",
    "        ypos + head_width,\n",
    "        f\"n={cases[0]}..{max_n[project]}\",\n",
    "        ha=\"center\",\n",
    "        size=\"small\",\n",
    "    )\n",
    "\n",
    "    head_width = head_width_rel * (ylim1[1] - ylim1[0])\n",
    "    ypos = ylim1[0] + ypos_rel * (ylim1[1] - ylim1[0])\n",
    "    ax[1].arrow(\n",
    "        xpos,\n",
    "        ypos,\n",
    "        dx,\n",
    "        dy,\n",
    "        lw=0.5,\n",
    "        length_includes_head=True,\n",
    "        head_width=head_width,\n",
    "        head_length=0.1,\n",
    "        ec=\"k\",\n",
    "        fc=\"k\",\n",
    "        alpha=0.5,\n",
    "    )\n",
    "    ax[1].text(\n",
    "        xpos + dx / 2,\n",
    "        ypos + head_width,\n",
    "        f\"n={cases[0]}..{max_n[project]}\",\n",
    "        ha=\"center\",\n",
    "        size=\"small\",\n",
    "    )\n",
    "\n",
    "title0 = (\n",
    "    f\"{pu.plot_numbers[0]}) \"\n",
    "    + \"Impact of 2$\\degree$F set point increase on energy for cooling\"\n",
    ")\n",
    "title1 = f\"{pu.plot_numbers[1]}) \" + \"Impact of mean daily OAT on energy for cooling\"\n",
    "ax[0].set_title(title0, ha=\"left\", loc=\"left\")\n",
    "ax[1].set_title(title1, ha=\"left\", loc=\"left\")\n",
    "\n",
    "f.tight_layout(w_pad=2.0)\n",
    "plt.subplots_adjust(top=0.85, bottom=0.27)\n",
    "if pu.save_fig:\n",
    "    f.savefig(pu.fig_path / \"Figure 5.pdf\")"
   ]
  },
  {
   "cell_type": "markdown",
   "metadata": {},
   "source": [
    "This figure shows the sensitivity of the impact A) of the 2F setpoint increase and B) of mean daily OAT, as estimated from models trained on a growing number of observations. Observations were ordered chronologically in this analysis. The dots represent the average estimates and the vertical bars show the 95% confidence intervals. As expected, the confidence intervals grow smaller as more data is collected. For most buildings, the value of collecting additional data points decreases after a few weeks."
   ]
  },
  {
   "cell_type": "code",
   "execution_count": null,
   "metadata": {},
   "outputs": [],
   "source": []
  }
 ],
 "metadata": {
  "kernelspec": {
   "display_name": "Python 3 (ipykernel)",
   "language": "python",
   "name": "python3"
  },
  "language_info": {
   "codemirror_mode": {
    "name": "ipython",
    "version": 3
   },
   "file_extension": ".py",
   "mimetype": "text/x-python",
   "name": "python",
   "nbconvert_exporter": "python",
   "pygments_lexer": "ipython3",
   "version": "3.10.8"
  }
 },
 "nbformat": 4,
 "nbformat_minor": 4
}
