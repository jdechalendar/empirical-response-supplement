{
 "cells": [
  {
   "cell_type": "code",
   "execution_count": null,
   "metadata": {},
   "outputs": [],
   "source": [
    "%load_ext autoreload\n",
    "%autoreload 2\n",
    "%matplotlib inline"
   ]
  },
  {
   "cell_type": "code",
   "execution_count": null,
   "metadata": {},
   "outputs": [],
   "source": [
    "import matplotlib.pyplot as plt\n",
    "import pandas as pd\n",
    "import numpy as np\n",
    "\n",
    "import paper_utils as pu\n",
    "\n",
    "pu.set_plots()"
   ]
  },
  {
   "cell_type": "markdown",
   "metadata": {},
   "source": [
    "# Load data"
   ]
  },
  {
   "cell_type": "code",
   "execution_count": null,
   "metadata": {},
   "outputs": [],
   "source": [
    "data = {project: pu.load(project) for project in pu.PROJECTS}"
   ]
  },
  {
   "cell_type": "markdown",
   "metadata": {},
   "source": [
    "# Figure 4"
   ]
  },
  {
   "cell_type": "code",
   "execution_count": null,
   "metadata": {},
   "outputs": [],
   "source": [
    "temp_models = {}\n",
    "qvals = [0.1, 0.25, 0.5, 0.75, 0.9]\n",
    "qvalsmean = [f\"{q}-mean\" for q in qvals]\n",
    "# qvalsmax = [f\"{q}-max\" for q in qvals]\n",
    "\n",
    "# for q in qvalsmean + qvalsmax + [\"mean_zone_temp\"]:\n",
    "for q in qvalsmean:\n",
    "    with_plots = q == \"0.5-mean\"\n",
    "    temp_models[q] = {}\n",
    "    if with_plots:\n",
    "        f, ax = plt.subplots(\n",
    "            2, 3, figsize=(pu.PAGE_WIDTH, 2 * pu.ROW_HEIGHT), sharey=True, sharex=True\n",
    "        )\n",
    "        ax = ax.flatten()\n",
    "    for i, project in enumerate(pu.PROJECTS):\n",
    "        weekend = pu.choose_weekend[project]\n",
    "        if (project == \"OFF-4\") and (q == \"mean_zone_temp\"):\n",
    "            continue  # Issue with this one\n",
    "        if q == \"mean_zone_temp\":\n",
    "            ylabel = f\"Mean zone temperature ($\\degree$F)\"\n",
    "        else:\n",
    "            ylabel = f\"Zone temperatures ($\\degree$F)\\n{q.split('-')[1]} {float(q.split('-')[0])*100:.0f}\\u1D57\\u02B0 percentile\"\n",
    "        if with_plots:\n",
    "            pu.plot_base(\n",
    "                data[project], y=q, ylabel=ylabel, fax=(f, ax[i]), weekend=weekend\n",
    "            )\n",
    "            fax = (f, ax[i])\n",
    "        else:\n",
    "            fax = None\n",
    "        temp_models[q][project] = pu.create_model(\n",
    "            data[project], fax=fax, weekend=weekend, y=q, log=False\n",
    "        )\n",
    "        if with_plots:\n",
    "            ax[i].set_title(f\"{pu.plot_numbers[i]}) {project}\")\n",
    "\n",
    "    if with_plots:\n",
    "        for a in ax:\n",
    "            a.yaxis.set_tick_params(labelleft=True)\n",
    "            a.xaxis.set_tick_params(labelbottom=True)\n",
    "        f.tight_layout()\n",
    "        pu.add_legend((f, ax))\n",
    "        if pu.save_fig:\n",
    "            f.savefig(pu.fig_path / \"Figure 4 A-F.pdf\")"
   ]
  },
  {
   "cell_type": "code",
   "execution_count": null,
   "metadata": {},
   "outputs": [],
   "source": [
    "color = [pu.grey1, pu.grey2, pu.dark_grey, pu.grey2, pu.grey1]\n",
    "ms = [1, 1, 2, 1, 1]\n",
    "\n",
    "f, ax = plt.subplots(1, 2, figsize=(pu.PAGE_WIDTH, pu.ROW_HEIGHT * 0.75))\n",
    "ax = ax.flatten()\n",
    "\n",
    "j = -0.2\n",
    "for iq, q in enumerate(qvalsmean):\n",
    "    for i, project in enumerate(pu.PROJECTS):\n",
    "        pu.ci_plot(\n",
    "            ax[0],\n",
    "            i + j,\n",
    "            temp_models[q][project],\n",
    "            \"Treated\",\n",
    "            color=color[iq],\n",
    "            ms=ms[iq],\n",
    "            log=False,\n",
    "        )\n",
    "        pu.ci_plot(\n",
    "            ax[1],\n",
    "            i + j,\n",
    "            temp_models[q][project],\n",
    "            \"Tmean\",\n",
    "            color=color[iq],\n",
    "            ms=ms[iq],\n",
    "            log=False,\n",
    "        )\n",
    "    j += 0.1\n",
    "\n",
    "\n",
    "for a in ax:\n",
    "    a.set_xticks(range(len(pu.PROJECTS)))\n",
    "    a.set_xticklabels(pu.PROJECTS, rotation=30, ha=\"right\")\n",
    "ax[0].set_ylabel(\"Impact (F)\")\n",
    "ax[1].set_ylabel(\"Impact (F/F)\")\n",
    "\n",
    "title0 = (\n",
    "    f\"{pu.plot_numbers[6]}) \"\n",
    "    + \"Impact of 2$\\degree$F set point increase on zone temp. percentiles\\n(10\\u1D57\\u02B0, 25\\u1D57\\u02B0, 50\\u1D57\\u02B0, 75\\u1D57\\u02B0, 90\\u1D57\\u02B0)\"\n",
    ")\n",
    "title1 = (\n",
    "    f\"{pu.plot_numbers[7]}) \"\n",
    "    + \"Impact of mean daily OAT on zone temp. percentiles\\n(10\\u1D57\\u02B0, 25\\u1D57\\u02B0, 50\\u1D57\\u02B0, 75\\u1D57\\u02B0, 90\\u1D57\\u02B0)\"\n",
    ")\n",
    "\n",
    "ax[0].set_title(title0, ha=\"left\", loc=\"left\")\n",
    "ax[1].set_title(title1, ha=\"left\", loc=\"left\")\n",
    "\n",
    "f.tight_layout(w_pad=2.0)\n",
    "plt.subplots_adjust(top=0.8, bottom=0.3)\n",
    "\n",
    "if pu.save_fig:\n",
    "    f.savefig(pu.fig_path / \"Figure 4 G-H.pdf\")"
   ]
  },
  {
   "cell_type": "code",
   "execution_count": null,
   "metadata": {},
   "outputs": [],
   "source": [
    "def y_transform(y):\n",
    "    return 10 * y\n",
    "\n",
    "\n",
    "print(\"Tmean impact for 10F\")\n",
    "txt = \"\"\n",
    "for q in temp_models:\n",
    "    txt += f'\\t{q.split(\"-\")[0]}'\n",
    "print(txt)\n",
    "for project in pu.PROJECTS:\n",
    "    txt = f\"{project}:\"\n",
    "    for q in temp_models:\n",
    "        mod = temp_models[q][project]\n",
    "        txt += f'\\t{y_transform(mod.params[\"Tmean\"]):.2f}'\n",
    "    print(txt)"
   ]
  },
  {
   "cell_type": "markdown",
   "metadata": {},
   "source": [
    "# Table S5"
   ]
  },
  {
   "cell_type": "code",
   "execution_count": null,
   "metadata": {},
   "outputs": [],
   "source": [
    "with open(pu.si_path / \"Table S5.tex\", \"w\") as fw:\n",
    "    fw.write(\n",
    "        pu.si_table(\n",
    "            temp_models[\"0.5-mean\"],\n",
    "            pu.PROJECTS,\n",
    "            caption=\"Additional numerical data for models shown in Figure 4 (room temperatures).\",\n",
    "            label=\"table:s5\",\n",
    "        )\n",
    "    )"
   ]
  }
 ],
 "metadata": {
  "kernelspec": {
   "display_name": "Python 3 (ipykernel)",
   "language": "python",
   "name": "python3"
  },
  "language_info": {
   "codemirror_mode": {
    "name": "ipython",
    "version": 3
   },
   "file_extension": ".py",
   "mimetype": "text/x-python",
   "name": "python",
   "nbconvert_exporter": "python",
   "pygments_lexer": "ipython3",
   "version": "3.10.8"
  }
 },
 "nbformat": 4,
 "nbformat_minor": 4
}
